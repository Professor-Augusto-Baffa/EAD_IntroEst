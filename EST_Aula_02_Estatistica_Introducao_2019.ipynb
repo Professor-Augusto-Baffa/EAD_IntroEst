{
 "cells": [
  {
   "cell_type": "markdown",
   "metadata": {},
   "source": [
    "# Introdução ao Pandas"
   ]
  },
  {
   "cell_type": "markdown",
   "metadata": {},
   "source": [
    "Importar arquivo Excel"
   ]
  },
  {
   "cell_type": "code",
   "execution_count": 42,
   "metadata": {},
   "outputs": [],
   "source": [
    "import pandas as pd\n",
    "from pandas import ExcelFile\n",
    "\n",
    "data = pd.read_excel('jogadores.xlsx', 'Resultados')\n"
   ]
  },
  {
   "cell_type": "code",
   "execution_count": 43,
   "metadata": {
    "scrolled": true
   },
   "outputs": [
    {
     "name": "stdout",
     "output_type": "stream",
     "text": [
      "                   FBID     Genero                Data   Ano  Mês  Modo  \\\n",
      "0       608448532822311  masculino 2019-08-02 02:19:46  2019  ago     0   \n",
      "1       608448532822311  masculino 2019-08-02 02:19:03  2019  ago     1   \n",
      "2       608448532822311  masculino 2019-08-02 02:16:54  2019  ago     0   \n",
      "3      2062477834077580   feminino 2019-07-31 05:32:48  2019  jul     0   \n",
      "4      2062477834077580   feminino 2019-07-31 05:32:09  2019  jul     0   \n",
      "...                 ...        ...                 ...   ...  ...   ...   \n",
      "5911   1036361163078030  masculino 2016-07-26 14:41:58  2016  jul     0   \n",
      "5912  10153561414982200  masculino 2016-07-26 02:57:59  2016  jul     0   \n",
      "5913  10153561414982200  masculino 2016-07-26 02:12:39  2016  jul     0   \n",
      "5914  10153561414982200  masculino 2016-07-26 01:47:22  2016  jul     0   \n",
      "5915  10153561414982200  masculino 2016-07-26 01:46:05  2016  jul     0   \n",
      "\n",
      "      Oponente  Ganhou  Local  FusoHorario  Unnamed: 10  Unnamed: 11  \n",
      "0            1       0  es_LA           -7          NaN          NaN  \n",
      "1            0       0  es_LA           -7          NaN          NaN  \n",
      "2            0       1  es_LA           -7          NaN          NaN  \n",
      "3            1       0  ro_RO            3          NaN          NaN  \n",
      "4            1       0  ro_RO            3          NaN          NaN  \n",
      "...        ...     ...    ...          ...          ...          ...  \n",
      "5911         0       1  fr_FR           -3          NaN          NaN  \n",
      "5912         0       0  pt_BR           -3          NaN          NaN  \n",
      "5913         0       0  pt_BR           -3          NaN          NaN  \n",
      "5914         1       0  pt_BR           -3          NaN          NaN  \n",
      "5915         0       1  pt_BR           -3          NaN          NaN  \n",
      "\n",
      "[5916 rows x 12 columns]\n"
     ]
    }
   ],
   "source": [
    "print(data)"
   ]
  },
  {
   "cell_type": "markdown",
   "metadata": {},
   "source": [
    "Importar arquivo CSV"
   ]
  },
  {
   "cell_type": "code",
   "execution_count": 3,
   "metadata": {},
   "outputs": [],
   "source": [
    "import pandas as pd\n",
    "\n",
    "data = pd.read_csv(\"jogadores.csv\") \n"
   ]
  },
  {
   "cell_type": "code",
   "execution_count": 4,
   "metadata": {
    "scrolled": true
   },
   "outputs": [
    {
     "name": "stdout",
     "output_type": "stream",
     "text": [
      "                   FBID     Genero                 Data   Ano  Mês  Modo  \\\n",
      "0       608448532822311  masculino  2019-08-02 02:19:46  2019  ago     0   \n",
      "1       608448532822311  masculino  2019-08-02 02:19:03  2019  ago     1   \n",
      "2       608448532822311  masculino  2019-08-02 02:16:54  2019  ago     0   \n",
      "3      2062477834077581   feminino  2019-07-31 05:32:48  2019  jul     0   \n",
      "4      2062477834077581   feminino  2019-07-31 05:32:09  2019  jul     0   \n",
      "...                 ...        ...                  ...   ...  ...   ...   \n",
      "5911   1036361163078035  masculino  2016-07-26 14:41:58  2016  jul     0   \n",
      "5912  10153561414982237  masculino  2016-07-26 02:57:59  2016  jul     0   \n",
      "5913  10153561414982237  masculino  2016-07-26 02:12:39  2016  jul     0   \n",
      "5914  10153561414982237  masculino  2016-07-26 01:47:22  2016  jul     0   \n",
      "5915  10153561414982237  masculino  2016-07-26 01:46:05  2016  jul     0   \n",
      "\n",
      "      Oponente  Ganhou  Local  FusoHorario  \n",
      "0            1       0  es_LA           -7  \n",
      "1            0       0  es_LA           -7  \n",
      "2            0       1  es_LA           -7  \n",
      "3            1       0  ro_RO            3  \n",
      "4            1       0  ro_RO            3  \n",
      "...        ...     ...    ...          ...  \n",
      "5911         0       1  fr_FR           -3  \n",
      "5912         0       0  pt_BR           -3  \n",
      "5913         0       0  pt_BR           -3  \n",
      "5914         1       0  pt_BR           -3  \n",
      "5915         0       1  pt_BR           -3  \n",
      "\n",
      "[5916 rows x 10 columns]\n"
     ]
    }
   ],
   "source": [
    "print(data)"
   ]
  },
  {
   "cell_type": "code",
   "execution_count": 5,
   "metadata": {},
   "outputs": [
    {
     "data": {
      "text/html": [
       "<div>\n",
       "<style scoped>\n",
       "    .dataframe tbody tr th:only-of-type {\n",
       "        vertical-align: middle;\n",
       "    }\n",
       "\n",
       "    .dataframe tbody tr th {\n",
       "        vertical-align: top;\n",
       "    }\n",
       "\n",
       "    .dataframe thead th {\n",
       "        text-align: right;\n",
       "    }\n",
       "</style>\n",
       "<table border=\"1\" class=\"dataframe\">\n",
       "  <thead>\n",
       "    <tr style=\"text-align: right;\">\n",
       "      <th></th>\n",
       "      <th>FBID</th>\n",
       "      <th>Genero</th>\n",
       "      <th>Data</th>\n",
       "      <th>Ano</th>\n",
       "      <th>Mês</th>\n",
       "      <th>Modo</th>\n",
       "      <th>Oponente</th>\n",
       "      <th>Ganhou</th>\n",
       "      <th>Local</th>\n",
       "      <th>FusoHorario</th>\n",
       "    </tr>\n",
       "  </thead>\n",
       "  <tbody>\n",
       "    <tr>\n",
       "      <td>0</td>\n",
       "      <td>608448532822311</td>\n",
       "      <td>masculino</td>\n",
       "      <td>2019-08-02 02:19:46</td>\n",
       "      <td>2019</td>\n",
       "      <td>ago</td>\n",
       "      <td>0</td>\n",
       "      <td>1</td>\n",
       "      <td>0</td>\n",
       "      <td>es_LA</td>\n",
       "      <td>-7</td>\n",
       "    </tr>\n",
       "    <tr>\n",
       "      <td>1</td>\n",
       "      <td>608448532822311</td>\n",
       "      <td>masculino</td>\n",
       "      <td>2019-08-02 02:19:03</td>\n",
       "      <td>2019</td>\n",
       "      <td>ago</td>\n",
       "      <td>1</td>\n",
       "      <td>0</td>\n",
       "      <td>0</td>\n",
       "      <td>es_LA</td>\n",
       "      <td>-7</td>\n",
       "    </tr>\n",
       "    <tr>\n",
       "      <td>2</td>\n",
       "      <td>608448532822311</td>\n",
       "      <td>masculino</td>\n",
       "      <td>2019-08-02 02:16:54</td>\n",
       "      <td>2019</td>\n",
       "      <td>ago</td>\n",
       "      <td>0</td>\n",
       "      <td>0</td>\n",
       "      <td>1</td>\n",
       "      <td>es_LA</td>\n",
       "      <td>-7</td>\n",
       "    </tr>\n",
       "    <tr>\n",
       "      <td>3</td>\n",
       "      <td>2062477834077581</td>\n",
       "      <td>feminino</td>\n",
       "      <td>2019-07-31 05:32:48</td>\n",
       "      <td>2019</td>\n",
       "      <td>jul</td>\n",
       "      <td>0</td>\n",
       "      <td>1</td>\n",
       "      <td>0</td>\n",
       "      <td>ro_RO</td>\n",
       "      <td>3</td>\n",
       "    </tr>\n",
       "    <tr>\n",
       "      <td>4</td>\n",
       "      <td>2062477834077581</td>\n",
       "      <td>feminino</td>\n",
       "      <td>2019-07-31 05:32:09</td>\n",
       "      <td>2019</td>\n",
       "      <td>jul</td>\n",
       "      <td>0</td>\n",
       "      <td>1</td>\n",
       "      <td>0</td>\n",
       "      <td>ro_RO</td>\n",
       "      <td>3</td>\n",
       "    </tr>\n",
       "  </tbody>\n",
       "</table>\n",
       "</div>"
      ],
      "text/plain": [
       "               FBID     Genero                 Data   Ano  Mês  Modo  \\\n",
       "0   608448532822311  masculino  2019-08-02 02:19:46  2019  ago     0   \n",
       "1   608448532822311  masculino  2019-08-02 02:19:03  2019  ago     1   \n",
       "2   608448532822311  masculino  2019-08-02 02:16:54  2019  ago     0   \n",
       "3  2062477834077581   feminino  2019-07-31 05:32:48  2019  jul     0   \n",
       "4  2062477834077581   feminino  2019-07-31 05:32:09  2019  jul     0   \n",
       "\n",
       "   Oponente  Ganhou  Local  FusoHorario  \n",
       "0         1       0  es_LA           -7  \n",
       "1         0       0  es_LA           -7  \n",
       "2         0       1  es_LA           -7  \n",
       "3         1       0  ro_RO            3  \n",
       "4         1       0  ro_RO            3  "
      ]
     },
     "execution_count": 5,
     "metadata": {},
     "output_type": "execute_result"
    }
   ],
   "source": [
    "data.head()"
   ]
  },
  {
   "cell_type": "code",
   "execution_count": 6,
   "metadata": {},
   "outputs": [
    {
     "data": {
      "text/html": [
       "<div>\n",
       "<style scoped>\n",
       "    .dataframe tbody tr th:only-of-type {\n",
       "        vertical-align: middle;\n",
       "    }\n",
       "\n",
       "    .dataframe tbody tr th {\n",
       "        vertical-align: top;\n",
       "    }\n",
       "\n",
       "    .dataframe thead th {\n",
       "        text-align: right;\n",
       "    }\n",
       "</style>\n",
       "<table border=\"1\" class=\"dataframe\">\n",
       "  <thead>\n",
       "    <tr style=\"text-align: right;\">\n",
       "      <th></th>\n",
       "      <th>FBID</th>\n",
       "      <th>Genero</th>\n",
       "      <th>Data</th>\n",
       "      <th>Ano</th>\n",
       "      <th>Mês</th>\n",
       "      <th>Modo</th>\n",
       "      <th>Oponente</th>\n",
       "      <th>Ganhou</th>\n",
       "      <th>Local</th>\n",
       "      <th>FusoHorario</th>\n",
       "    </tr>\n",
       "  </thead>\n",
       "  <tbody>\n",
       "    <tr>\n",
       "      <td>0</td>\n",
       "      <td>608448532822311</td>\n",
       "      <td>masculino</td>\n",
       "      <td>2019-08-02 02:19:46</td>\n",
       "      <td>2019</td>\n",
       "      <td>ago</td>\n",
       "      <td>0</td>\n",
       "      <td>1</td>\n",
       "      <td>0</td>\n",
       "      <td>es_LA</td>\n",
       "      <td>-7</td>\n",
       "    </tr>\n",
       "    <tr>\n",
       "      <td>1</td>\n",
       "      <td>608448532822311</td>\n",
       "      <td>masculino</td>\n",
       "      <td>2019-08-02 02:19:03</td>\n",
       "      <td>2019</td>\n",
       "      <td>ago</td>\n",
       "      <td>1</td>\n",
       "      <td>0</td>\n",
       "      <td>0</td>\n",
       "      <td>es_LA</td>\n",
       "      <td>-7</td>\n",
       "    </tr>\n",
       "    <tr>\n",
       "      <td>2</td>\n",
       "      <td>608448532822311</td>\n",
       "      <td>masculino</td>\n",
       "      <td>2019-08-02 02:16:54</td>\n",
       "      <td>2019</td>\n",
       "      <td>ago</td>\n",
       "      <td>0</td>\n",
       "      <td>0</td>\n",
       "      <td>1</td>\n",
       "      <td>es_LA</td>\n",
       "      <td>-7</td>\n",
       "    </tr>\n",
       "    <tr>\n",
       "      <td>3</td>\n",
       "      <td>2062477834077581</td>\n",
       "      <td>feminino</td>\n",
       "      <td>2019-07-31 05:32:48</td>\n",
       "      <td>2019</td>\n",
       "      <td>jul</td>\n",
       "      <td>0</td>\n",
       "      <td>1</td>\n",
       "      <td>0</td>\n",
       "      <td>ro_RO</td>\n",
       "      <td>3</td>\n",
       "    </tr>\n",
       "    <tr>\n",
       "      <td>4</td>\n",
       "      <td>2062477834077581</td>\n",
       "      <td>feminino</td>\n",
       "      <td>2019-07-31 05:32:09</td>\n",
       "      <td>2019</td>\n",
       "      <td>jul</td>\n",
       "      <td>0</td>\n",
       "      <td>1</td>\n",
       "      <td>0</td>\n",
       "      <td>ro_RO</td>\n",
       "      <td>3</td>\n",
       "    </tr>\n",
       "    <tr>\n",
       "      <td>5</td>\n",
       "      <td>2076213719265645</td>\n",
       "      <td>masculino</td>\n",
       "      <td>2019-07-28 14:56:29</td>\n",
       "      <td>2019</td>\n",
       "      <td>jul</td>\n",
       "      <td>0</td>\n",
       "      <td>0</td>\n",
       "      <td>0</td>\n",
       "      <td>en_US</td>\n",
       "      <td>2</td>\n",
       "    </tr>\n",
       "    <tr>\n",
       "      <td>6</td>\n",
       "      <td>2076213719265645</td>\n",
       "      <td>masculino</td>\n",
       "      <td>2019-07-27 08:56:09</td>\n",
       "      <td>2019</td>\n",
       "      <td>jul</td>\n",
       "      <td>0</td>\n",
       "      <td>2</td>\n",
       "      <td>0</td>\n",
       "      <td>en_US</td>\n",
       "      <td>2</td>\n",
       "    </tr>\n",
       "    <tr>\n",
       "      <td>7</td>\n",
       "      <td>2076213719265645</td>\n",
       "      <td>masculino</td>\n",
       "      <td>2019-07-27 08:55:37</td>\n",
       "      <td>2019</td>\n",
       "      <td>jul</td>\n",
       "      <td>0</td>\n",
       "      <td>2</td>\n",
       "      <td>0</td>\n",
       "      <td>en_US</td>\n",
       "      <td>2</td>\n",
       "    </tr>\n",
       "    <tr>\n",
       "      <td>8</td>\n",
       "      <td>2076213719265645</td>\n",
       "      <td>masculino</td>\n",
       "      <td>2019-07-27 08:55:03</td>\n",
       "      <td>2019</td>\n",
       "      <td>jul</td>\n",
       "      <td>0</td>\n",
       "      <td>2</td>\n",
       "      <td>0</td>\n",
       "      <td>en_US</td>\n",
       "      <td>2</td>\n",
       "    </tr>\n",
       "    <tr>\n",
       "      <td>9</td>\n",
       "      <td>2076213719265645</td>\n",
       "      <td>masculino</td>\n",
       "      <td>2019-07-27 08:53:00</td>\n",
       "      <td>2019</td>\n",
       "      <td>jul</td>\n",
       "      <td>1</td>\n",
       "      <td>0</td>\n",
       "      <td>0</td>\n",
       "      <td>en_US</td>\n",
       "      <td>2</td>\n",
       "    </tr>\n",
       "  </tbody>\n",
       "</table>\n",
       "</div>"
      ],
      "text/plain": [
       "               FBID     Genero                 Data   Ano  Mês  Modo  \\\n",
       "0   608448532822311  masculino  2019-08-02 02:19:46  2019  ago     0   \n",
       "1   608448532822311  masculino  2019-08-02 02:19:03  2019  ago     1   \n",
       "2   608448532822311  masculino  2019-08-02 02:16:54  2019  ago     0   \n",
       "3  2062477834077581   feminino  2019-07-31 05:32:48  2019  jul     0   \n",
       "4  2062477834077581   feminino  2019-07-31 05:32:09  2019  jul     0   \n",
       "5  2076213719265645  masculino  2019-07-28 14:56:29  2019  jul     0   \n",
       "6  2076213719265645  masculino  2019-07-27 08:56:09  2019  jul     0   \n",
       "7  2076213719265645  masculino  2019-07-27 08:55:37  2019  jul     0   \n",
       "8  2076213719265645  masculino  2019-07-27 08:55:03  2019  jul     0   \n",
       "9  2076213719265645  masculino  2019-07-27 08:53:00  2019  jul     1   \n",
       "\n",
       "   Oponente  Ganhou  Local  FusoHorario  \n",
       "0         1       0  es_LA           -7  \n",
       "1         0       0  es_LA           -7  \n",
       "2         0       1  es_LA           -7  \n",
       "3         1       0  ro_RO            3  \n",
       "4         1       0  ro_RO            3  \n",
       "5         0       0  en_US            2  \n",
       "6         2       0  en_US            2  \n",
       "7         2       0  en_US            2  \n",
       "8         2       0  en_US            2  \n",
       "9         0       0  en_US            2  "
      ]
     },
     "execution_count": 6,
     "metadata": {},
     "output_type": "execute_result"
    }
   ],
   "source": [
    "data.head(n=10)"
   ]
  },
  {
   "cell_type": "code",
   "execution_count": 7,
   "metadata": {},
   "outputs": [
    {
     "data": {
      "text/html": [
       "<div>\n",
       "<style scoped>\n",
       "    .dataframe tbody tr th:only-of-type {\n",
       "        vertical-align: middle;\n",
       "    }\n",
       "\n",
       "    .dataframe tbody tr th {\n",
       "        vertical-align: top;\n",
       "    }\n",
       "\n",
       "    .dataframe thead th {\n",
       "        text-align: right;\n",
       "    }\n",
       "</style>\n",
       "<table border=\"1\" class=\"dataframe\">\n",
       "  <thead>\n",
       "    <tr style=\"text-align: right;\">\n",
       "      <th></th>\n",
       "      <th>FBID</th>\n",
       "      <th>Genero</th>\n",
       "      <th>Data</th>\n",
       "      <th>Ano</th>\n",
       "      <th>Mês</th>\n",
       "      <th>Modo</th>\n",
       "      <th>Oponente</th>\n",
       "      <th>Ganhou</th>\n",
       "      <th>Local</th>\n",
       "      <th>FusoHorario</th>\n",
       "    </tr>\n",
       "  </thead>\n",
       "  <tbody>\n",
       "    <tr>\n",
       "      <td>5911</td>\n",
       "      <td>1036361163078035</td>\n",
       "      <td>masculino</td>\n",
       "      <td>2016-07-26 14:41:58</td>\n",
       "      <td>2016</td>\n",
       "      <td>jul</td>\n",
       "      <td>0</td>\n",
       "      <td>0</td>\n",
       "      <td>1</td>\n",
       "      <td>fr_FR</td>\n",
       "      <td>-3</td>\n",
       "    </tr>\n",
       "    <tr>\n",
       "      <td>5912</td>\n",
       "      <td>10153561414982237</td>\n",
       "      <td>masculino</td>\n",
       "      <td>2016-07-26 02:57:59</td>\n",
       "      <td>2016</td>\n",
       "      <td>jul</td>\n",
       "      <td>0</td>\n",
       "      <td>0</td>\n",
       "      <td>0</td>\n",
       "      <td>pt_BR</td>\n",
       "      <td>-3</td>\n",
       "    </tr>\n",
       "    <tr>\n",
       "      <td>5913</td>\n",
       "      <td>10153561414982237</td>\n",
       "      <td>masculino</td>\n",
       "      <td>2016-07-26 02:12:39</td>\n",
       "      <td>2016</td>\n",
       "      <td>jul</td>\n",
       "      <td>0</td>\n",
       "      <td>0</td>\n",
       "      <td>0</td>\n",
       "      <td>pt_BR</td>\n",
       "      <td>-3</td>\n",
       "    </tr>\n",
       "    <tr>\n",
       "      <td>5914</td>\n",
       "      <td>10153561414982237</td>\n",
       "      <td>masculino</td>\n",
       "      <td>2016-07-26 01:47:22</td>\n",
       "      <td>2016</td>\n",
       "      <td>jul</td>\n",
       "      <td>0</td>\n",
       "      <td>1</td>\n",
       "      <td>0</td>\n",
       "      <td>pt_BR</td>\n",
       "      <td>-3</td>\n",
       "    </tr>\n",
       "    <tr>\n",
       "      <td>5915</td>\n",
       "      <td>10153561414982237</td>\n",
       "      <td>masculino</td>\n",
       "      <td>2016-07-26 01:46:05</td>\n",
       "      <td>2016</td>\n",
       "      <td>jul</td>\n",
       "      <td>0</td>\n",
       "      <td>0</td>\n",
       "      <td>1</td>\n",
       "      <td>pt_BR</td>\n",
       "      <td>-3</td>\n",
       "    </tr>\n",
       "  </tbody>\n",
       "</table>\n",
       "</div>"
      ],
      "text/plain": [
       "                   FBID     Genero                 Data   Ano  Mês  Modo  \\\n",
       "5911   1036361163078035  masculino  2016-07-26 14:41:58  2016  jul     0   \n",
       "5912  10153561414982237  masculino  2016-07-26 02:57:59  2016  jul     0   \n",
       "5913  10153561414982237  masculino  2016-07-26 02:12:39  2016  jul     0   \n",
       "5914  10153561414982237  masculino  2016-07-26 01:47:22  2016  jul     0   \n",
       "5915  10153561414982237  masculino  2016-07-26 01:46:05  2016  jul     0   \n",
       "\n",
       "      Oponente  Ganhou  Local  FusoHorario  \n",
       "5911         0       1  fr_FR           -3  \n",
       "5912         0       0  pt_BR           -3  \n",
       "5913         0       0  pt_BR           -3  \n",
       "5914         1       0  pt_BR           -3  \n",
       "5915         0       1  pt_BR           -3  "
      ]
     },
     "execution_count": 7,
     "metadata": {},
     "output_type": "execute_result"
    }
   ],
   "source": [
    "data.tail()"
   ]
  },
  {
   "cell_type": "code",
   "execution_count": 8,
   "metadata": {
    "scrolled": true
   },
   "outputs": [
    {
     "data": {
      "text/html": [
       "<div>\n",
       "<style scoped>\n",
       "    .dataframe tbody tr th:only-of-type {\n",
       "        vertical-align: middle;\n",
       "    }\n",
       "\n",
       "    .dataframe tbody tr th {\n",
       "        vertical-align: top;\n",
       "    }\n",
       "\n",
       "    .dataframe thead th {\n",
       "        text-align: right;\n",
       "    }\n",
       "</style>\n",
       "<table border=\"1\" class=\"dataframe\">\n",
       "  <thead>\n",
       "    <tr style=\"text-align: right;\">\n",
       "      <th></th>\n",
       "      <th>FBID</th>\n",
       "      <th>Genero</th>\n",
       "      <th>Data</th>\n",
       "      <th>Ano</th>\n",
       "      <th>Mês</th>\n",
       "      <th>Modo</th>\n",
       "      <th>Oponente</th>\n",
       "      <th>Ganhou</th>\n",
       "      <th>Local</th>\n",
       "      <th>FusoHorario</th>\n",
       "    </tr>\n",
       "  </thead>\n",
       "  <tbody>\n",
       "    <tr>\n",
       "      <td>5906</td>\n",
       "      <td>10153799677118014</td>\n",
       "      <td>feminino</td>\n",
       "      <td>2016-07-26 14:49:28</td>\n",
       "      <td>2016</td>\n",
       "      <td>jul</td>\n",
       "      <td>0</td>\n",
       "      <td>2</td>\n",
       "      <td>1</td>\n",
       "      <td>pt_BR</td>\n",
       "      <td>-3</td>\n",
       "    </tr>\n",
       "    <tr>\n",
       "      <td>5907</td>\n",
       "      <td>10153799677118014</td>\n",
       "      <td>feminino</td>\n",
       "      <td>2016-07-26 14:48:49</td>\n",
       "      <td>2016</td>\n",
       "      <td>jul</td>\n",
       "      <td>0</td>\n",
       "      <td>1</td>\n",
       "      <td>1</td>\n",
       "      <td>pt_BR</td>\n",
       "      <td>-3</td>\n",
       "    </tr>\n",
       "    <tr>\n",
       "      <td>5908</td>\n",
       "      <td>1190766150974044</td>\n",
       "      <td>feminino</td>\n",
       "      <td>2016-07-26 14:48:35</td>\n",
       "      <td>2016</td>\n",
       "      <td>jul</td>\n",
       "      <td>0</td>\n",
       "      <td>0</td>\n",
       "      <td>1</td>\n",
       "      <td>pt_BR</td>\n",
       "      <td>-3</td>\n",
       "    </tr>\n",
       "    <tr>\n",
       "      <td>5909</td>\n",
       "      <td>10153799677118014</td>\n",
       "      <td>feminino</td>\n",
       "      <td>2016-07-26 14:48:08</td>\n",
       "      <td>2016</td>\n",
       "      <td>jul</td>\n",
       "      <td>0</td>\n",
       "      <td>0</td>\n",
       "      <td>1</td>\n",
       "      <td>pt_BR</td>\n",
       "      <td>-3</td>\n",
       "    </tr>\n",
       "    <tr>\n",
       "      <td>5910</td>\n",
       "      <td>1036361163078035</td>\n",
       "      <td>masculino</td>\n",
       "      <td>2016-07-26 14:42:36</td>\n",
       "      <td>2016</td>\n",
       "      <td>jul</td>\n",
       "      <td>1</td>\n",
       "      <td>0</td>\n",
       "      <td>1</td>\n",
       "      <td>fr_FR</td>\n",
       "      <td>-3</td>\n",
       "    </tr>\n",
       "    <tr>\n",
       "      <td>5911</td>\n",
       "      <td>1036361163078035</td>\n",
       "      <td>masculino</td>\n",
       "      <td>2016-07-26 14:41:58</td>\n",
       "      <td>2016</td>\n",
       "      <td>jul</td>\n",
       "      <td>0</td>\n",
       "      <td>0</td>\n",
       "      <td>1</td>\n",
       "      <td>fr_FR</td>\n",
       "      <td>-3</td>\n",
       "    </tr>\n",
       "    <tr>\n",
       "      <td>5912</td>\n",
       "      <td>10153561414982237</td>\n",
       "      <td>masculino</td>\n",
       "      <td>2016-07-26 02:57:59</td>\n",
       "      <td>2016</td>\n",
       "      <td>jul</td>\n",
       "      <td>0</td>\n",
       "      <td>0</td>\n",
       "      <td>0</td>\n",
       "      <td>pt_BR</td>\n",
       "      <td>-3</td>\n",
       "    </tr>\n",
       "    <tr>\n",
       "      <td>5913</td>\n",
       "      <td>10153561414982237</td>\n",
       "      <td>masculino</td>\n",
       "      <td>2016-07-26 02:12:39</td>\n",
       "      <td>2016</td>\n",
       "      <td>jul</td>\n",
       "      <td>0</td>\n",
       "      <td>0</td>\n",
       "      <td>0</td>\n",
       "      <td>pt_BR</td>\n",
       "      <td>-3</td>\n",
       "    </tr>\n",
       "    <tr>\n",
       "      <td>5914</td>\n",
       "      <td>10153561414982237</td>\n",
       "      <td>masculino</td>\n",
       "      <td>2016-07-26 01:47:22</td>\n",
       "      <td>2016</td>\n",
       "      <td>jul</td>\n",
       "      <td>0</td>\n",
       "      <td>1</td>\n",
       "      <td>0</td>\n",
       "      <td>pt_BR</td>\n",
       "      <td>-3</td>\n",
       "    </tr>\n",
       "    <tr>\n",
       "      <td>5915</td>\n",
       "      <td>10153561414982237</td>\n",
       "      <td>masculino</td>\n",
       "      <td>2016-07-26 01:46:05</td>\n",
       "      <td>2016</td>\n",
       "      <td>jul</td>\n",
       "      <td>0</td>\n",
       "      <td>0</td>\n",
       "      <td>1</td>\n",
       "      <td>pt_BR</td>\n",
       "      <td>-3</td>\n",
       "    </tr>\n",
       "  </tbody>\n",
       "</table>\n",
       "</div>"
      ],
      "text/plain": [
       "                   FBID     Genero                 Data   Ano  Mês  Modo  \\\n",
       "5906  10153799677118014   feminino  2016-07-26 14:49:28  2016  jul     0   \n",
       "5907  10153799677118014   feminino  2016-07-26 14:48:49  2016  jul     0   \n",
       "5908   1190766150974044   feminino  2016-07-26 14:48:35  2016  jul     0   \n",
       "5909  10153799677118014   feminino  2016-07-26 14:48:08  2016  jul     0   \n",
       "5910   1036361163078035  masculino  2016-07-26 14:42:36  2016  jul     1   \n",
       "5911   1036361163078035  masculino  2016-07-26 14:41:58  2016  jul     0   \n",
       "5912  10153561414982237  masculino  2016-07-26 02:57:59  2016  jul     0   \n",
       "5913  10153561414982237  masculino  2016-07-26 02:12:39  2016  jul     0   \n",
       "5914  10153561414982237  masculino  2016-07-26 01:47:22  2016  jul     0   \n",
       "5915  10153561414982237  masculino  2016-07-26 01:46:05  2016  jul     0   \n",
       "\n",
       "      Oponente  Ganhou  Local  FusoHorario  \n",
       "5906         2       1  pt_BR           -3  \n",
       "5907         1       1  pt_BR           -3  \n",
       "5908         0       1  pt_BR           -3  \n",
       "5909         0       1  pt_BR           -3  \n",
       "5910         0       1  fr_FR           -3  \n",
       "5911         0       1  fr_FR           -3  \n",
       "5912         0       0  pt_BR           -3  \n",
       "5913         0       0  pt_BR           -3  \n",
       "5914         1       0  pt_BR           -3  \n",
       "5915         0       1  pt_BR           -3  "
      ]
     },
     "execution_count": 8,
     "metadata": {},
     "output_type": "execute_result"
    }
   ],
   "source": [
    "data.tail(n=10)"
   ]
  },
  {
   "cell_type": "code",
   "execution_count": 9,
   "metadata": {},
   "outputs": [
    {
     "name": "stdout",
     "output_type": "stream",
     "text": [
      "<class 'pandas.core.frame.DataFrame'>\n",
      "RangeIndex: 5916 entries, 0 to 5915\n",
      "Data columns (total 10 columns):\n",
      "FBID           5916 non-null int64\n",
      "Genero         5916 non-null object\n",
      "Data           5916 non-null object\n",
      "Ano            5916 non-null int64\n",
      "Mês            5916 non-null object\n",
      "Modo           5916 non-null int64\n",
      "Oponente       5916 non-null int64\n",
      "Ganhou         5916 non-null int64\n",
      "Local          5916 non-null object\n",
      "FusoHorario    5916 non-null int64\n",
      "dtypes: int64(6), object(4)\n",
      "memory usage: 462.3+ KB\n"
     ]
    }
   ],
   "source": [
    "data.info()"
   ]
  },
  {
   "cell_type": "markdown",
   "metadata": {},
   "source": [
    "# Frequência Relativa dos Dados"
   ]
  },
  {
   "cell_type": "code",
   "execution_count": 10,
   "metadata": {},
   "outputs": [
    {
     "name": "stdout",
     "output_type": "stream",
     "text": [
      "      Ganhou\n",
      "Ano         \n",
      "2016     424\n",
      "2017     149\n",
      "2018     256\n",
      "2019       9\n"
     ]
    }
   ],
   "source": [
    "df_ganhou = data[data.Ganhou == 1]\n",
    "\n",
    "df_ganhou = pd.pivot_table(df_ganhou, values='Ganhou', \n",
    "\t\t\t\tindex=['Ano'], \n",
    "\t\t\t\t\taggfunc='count')\n",
    "\n",
    "print(df_ganhou)\n"
   ]
  },
  {
   "cell_type": "code",
   "execution_count": 11,
   "metadata": {},
   "outputs": [
    {
     "name": "stdout",
     "output_type": "stream",
     "text": [
      "      Ganhou\n",
      "Ano         \n",
      "2016    2493\n",
      "2017     915\n",
      "2018    1594\n",
      "2019      76\n",
      "      Perdeu\n",
      "Ano         \n",
      "2016    2493\n",
      "2017     915\n",
      "2018    1594\n",
      "2019      76\n"
     ]
    }
   ],
   "source": [
    "df_perdeu = data[data.Ganhou == 0]\n",
    "\n",
    "df_perdeu = pd.pivot_table(df_perdeu, values='Ganhou',\n",
    "\t\t\t\t\tindex=['Ano'],\n",
    "\t\t\t\t\taggfunc='count')\n",
    "\n",
    "print(df_perdeu)\n",
    "\n",
    "df_perdeu.rename(columns={'Ganhou':'Perdeu'}, inplace=True)\n",
    "\n",
    "print(df_perdeu)"
   ]
  },
  {
   "cell_type": "code",
   "execution_count": 12,
   "metadata": {},
   "outputs": [
    {
     "name": "stdout",
     "output_type": "stream",
     "text": [
      "      Ganhou  Perdeu\n",
      "Ano                 \n",
      "2016     424    2493\n",
      "2017     149     915\n",
      "2018     256    1594\n",
      "2019       9      76\n"
     ]
    }
   ],
   "source": [
    "df = pd.merge(df_ganhou, df_perdeu, on='Ano')\n",
    "\n",
    "print(df)"
   ]
  },
  {
   "cell_type": "code",
   "execution_count": 14,
   "metadata": {},
   "outputs": [
    {
     "name": "stdout",
     "output_type": "stream",
     "text": [
      "      Total\n",
      "Ano        \n",
      "2016   2917\n",
      "2017   1064\n",
      "2018   1850\n",
      "2019     85\n",
      "      Ganhou  Perdeu  Total\n",
      "Ano                        \n",
      "2016     424    2493   2917\n",
      "2017     149     915   1064\n",
      "2018     256    1594   1850\n",
      "2019       9      76     85\n"
     ]
    }
   ],
   "source": [
    "df_total = pd.pivot_table(data, values='Ganhou',\n",
    "\t\t\t\t  index=['Ano'],\n",
    "\t\t\t\t  aggfunc='count')\n",
    "\n",
    "df_total.rename(columns={'Ganhou':'Total'}, inplace=True)\n",
    "\n",
    "print(df_total)\n",
    "\n",
    "df = pd.merge(df, df_total, on='Ano')\n",
    "print(df)"
   ]
  },
  {
   "cell_type": "markdown",
   "metadata": {},
   "source": [
    "#### Frequências Relativas"
   ]
  },
  {
   "cell_type": "code",
   "execution_count": 17,
   "metadata": {},
   "outputs": [
    {
     "name": "stdout",
     "output_type": "stream",
     "text": [
      "      PercGanhou  PercPerdeu\n",
      "Ano                         \n",
      "2016    0.145355    0.854645\n",
      "2017    0.140038    0.859962\n",
      "2018    0.138378    0.861622\n",
      "2019    0.105882    0.894118\n",
      "      Ganhou  Perdeu  Total  PercGanhou  PercPerdeu\n",
      "Ano                                                \n",
      "2016     424    2493   2917    0.145355    0.854645\n",
      "2017     149     915   1064    0.140038    0.859962\n",
      "2018     256    1594   1850    0.138378    0.861622\n",
      "2019       9      76     85    0.105882    0.894118\n"
     ]
    }
   ],
   "source": [
    "df2 = df.apply(lambda row: pd.Series({\n",
    "\t\t\t'PercGanhou': row['Ganhou']/row['Total'], \n",
    "\t\t\t'PercPerdeu': row['Perdeu']/row['Total']}),\n",
    "\t\t axis=1)\n",
    "\n",
    "print(df2)\n",
    "\n",
    "df2 = pd.merge(df, df2, on='Ano')\n",
    "print(df2)\n",
    "\n"
   ]
  },
  {
   "cell_type": "markdown",
   "metadata": {},
   "source": [
    "Qual local registro o maior número de jogadores?"
   ]
  },
  {
   "cell_type": "code",
   "execution_count": 18,
   "metadata": {
    "scrolled": true
   },
   "outputs": [
    {
     "name": "stdout",
     "output_type": "stream",
     "text": [
      "       Ganhou\n",
      "Local        \n",
      "ar_AR      20\n",
      "bg_BG       7\n",
      "cs_CZ      10\n",
      "de_DE       7\n",
      "el_GR       9\n",
      "en_GB      23\n",
      "en_US      68\n",
      "es_ES      67\n",
      "es_LA     118\n",
      "fi_FI       1\n",
      "fr_CA       5\n",
      "fr_FR     124\n",
      "hr_HR       2\n",
      "hu_HU       7\n",
      "id_ID      19\n",
      "it_IT      26\n",
      "ja_JP       1\n",
      "ka_GE       7\n",
      "ku_TR       4\n",
      "lt_LT       1\n",
      "mk_MK       2\n",
      "mn_MN       1\n",
      "nl_BE       2\n",
      "nl_NL       6\n",
      "nn_NO       8\n",
      "pl_PL      15\n",
      "pt_BR     174\n",
      "pt_PT      29\n",
      "ro_RO      15\n",
      "ru_RU       9\n",
      "sq_AL       4\n",
      "sr_RS       2\n",
      "th_TH       1\n",
      "tr_TR      15\n",
      "vi_VN      13\n",
      "zh_CN       3\n",
      "zh_TW      13\n"
     ]
    }
   ],
   "source": [
    "df_local = data[data.Ganhou == 1]\n",
    "df_local = pd.pivot_table(df_local, values='Ganhou', \n",
    "                     index=['Local'], \n",
    "                     aggfunc='count'\n",
    "                      )\n",
    "print(df_local)\n"
   ]
  },
  {
   "cell_type": "markdown",
   "metadata": {},
   "source": [
    "Como ordenar pelos locais que mais registraram vencedores?"
   ]
  },
  {
   "cell_type": "code",
   "execution_count": 20,
   "metadata": {
    "scrolled": true
   },
   "outputs": [
    {
     "data": {
      "text/html": [
       "<div>\n",
       "<style scoped>\n",
       "    .dataframe tbody tr th:only-of-type {\n",
       "        vertical-align: middle;\n",
       "    }\n",
       "\n",
       "    .dataframe tbody tr th {\n",
       "        vertical-align: top;\n",
       "    }\n",
       "\n",
       "    .dataframe thead th {\n",
       "        text-align: right;\n",
       "    }\n",
       "</style>\n",
       "<table border=\"1\" class=\"dataframe\">\n",
       "  <thead>\n",
       "    <tr style=\"text-align: right;\">\n",
       "      <th></th>\n",
       "      <th>Ganhou</th>\n",
       "    </tr>\n",
       "    <tr>\n",
       "      <th>Local</th>\n",
       "      <th></th>\n",
       "    </tr>\n",
       "  </thead>\n",
       "  <tbody>\n",
       "    <tr>\n",
       "      <td>pt_BR</td>\n",
       "      <td>174</td>\n",
       "    </tr>\n",
       "    <tr>\n",
       "      <td>fr_FR</td>\n",
       "      <td>124</td>\n",
       "    </tr>\n",
       "    <tr>\n",
       "      <td>es_LA</td>\n",
       "      <td>118</td>\n",
       "    </tr>\n",
       "    <tr>\n",
       "      <td>en_US</td>\n",
       "      <td>68</td>\n",
       "    </tr>\n",
       "    <tr>\n",
       "      <td>es_ES</td>\n",
       "      <td>67</td>\n",
       "    </tr>\n",
       "    <tr>\n",
       "      <td>pt_PT</td>\n",
       "      <td>29</td>\n",
       "    </tr>\n",
       "    <tr>\n",
       "      <td>it_IT</td>\n",
       "      <td>26</td>\n",
       "    </tr>\n",
       "    <tr>\n",
       "      <td>en_GB</td>\n",
       "      <td>23</td>\n",
       "    </tr>\n",
       "    <tr>\n",
       "      <td>ar_AR</td>\n",
       "      <td>20</td>\n",
       "    </tr>\n",
       "    <tr>\n",
       "      <td>id_ID</td>\n",
       "      <td>19</td>\n",
       "    </tr>\n",
       "    <tr>\n",
       "      <td>tr_TR</td>\n",
       "      <td>15</td>\n",
       "    </tr>\n",
       "    <tr>\n",
       "      <td>ro_RO</td>\n",
       "      <td>15</td>\n",
       "    </tr>\n",
       "    <tr>\n",
       "      <td>pl_PL</td>\n",
       "      <td>15</td>\n",
       "    </tr>\n",
       "    <tr>\n",
       "      <td>vi_VN</td>\n",
       "      <td>13</td>\n",
       "    </tr>\n",
       "    <tr>\n",
       "      <td>zh_TW</td>\n",
       "      <td>13</td>\n",
       "    </tr>\n",
       "    <tr>\n",
       "      <td>cs_CZ</td>\n",
       "      <td>10</td>\n",
       "    </tr>\n",
       "    <tr>\n",
       "      <td>ru_RU</td>\n",
       "      <td>9</td>\n",
       "    </tr>\n",
       "    <tr>\n",
       "      <td>el_GR</td>\n",
       "      <td>9</td>\n",
       "    </tr>\n",
       "    <tr>\n",
       "      <td>nn_NO</td>\n",
       "      <td>8</td>\n",
       "    </tr>\n",
       "    <tr>\n",
       "      <td>hu_HU</td>\n",
       "      <td>7</td>\n",
       "    </tr>\n",
       "    <tr>\n",
       "      <td>ka_GE</td>\n",
       "      <td>7</td>\n",
       "    </tr>\n",
       "    <tr>\n",
       "      <td>bg_BG</td>\n",
       "      <td>7</td>\n",
       "    </tr>\n",
       "    <tr>\n",
       "      <td>de_DE</td>\n",
       "      <td>7</td>\n",
       "    </tr>\n",
       "    <tr>\n",
       "      <td>nl_NL</td>\n",
       "      <td>6</td>\n",
       "    </tr>\n",
       "    <tr>\n",
       "      <td>fr_CA</td>\n",
       "      <td>5</td>\n",
       "    </tr>\n",
       "    <tr>\n",
       "      <td>sq_AL</td>\n",
       "      <td>4</td>\n",
       "    </tr>\n",
       "    <tr>\n",
       "      <td>ku_TR</td>\n",
       "      <td>4</td>\n",
       "    </tr>\n",
       "    <tr>\n",
       "      <td>zh_CN</td>\n",
       "      <td>3</td>\n",
       "    </tr>\n",
       "    <tr>\n",
       "      <td>hr_HR</td>\n",
       "      <td>2</td>\n",
       "    </tr>\n",
       "    <tr>\n",
       "      <td>nl_BE</td>\n",
       "      <td>2</td>\n",
       "    </tr>\n",
       "    <tr>\n",
       "      <td>sr_RS</td>\n",
       "      <td>2</td>\n",
       "    </tr>\n",
       "    <tr>\n",
       "      <td>mk_MK</td>\n",
       "      <td>2</td>\n",
       "    </tr>\n",
       "    <tr>\n",
       "      <td>ja_JP</td>\n",
       "      <td>1</td>\n",
       "    </tr>\n",
       "    <tr>\n",
       "      <td>fi_FI</td>\n",
       "      <td>1</td>\n",
       "    </tr>\n",
       "    <tr>\n",
       "      <td>mn_MN</td>\n",
       "      <td>1</td>\n",
       "    </tr>\n",
       "    <tr>\n",
       "      <td>th_TH</td>\n",
       "      <td>1</td>\n",
       "    </tr>\n",
       "    <tr>\n",
       "      <td>lt_LT</td>\n",
       "      <td>1</td>\n",
       "    </tr>\n",
       "  </tbody>\n",
       "</table>\n",
       "</div>"
      ],
      "text/plain": [
       "       Ganhou\n",
       "Local        \n",
       "pt_BR     174\n",
       "fr_FR     124\n",
       "es_LA     118\n",
       "en_US      68\n",
       "es_ES      67\n",
       "pt_PT      29\n",
       "it_IT      26\n",
       "en_GB      23\n",
       "ar_AR      20\n",
       "id_ID      19\n",
       "tr_TR      15\n",
       "ro_RO      15\n",
       "pl_PL      15\n",
       "vi_VN      13\n",
       "zh_TW      13\n",
       "cs_CZ      10\n",
       "ru_RU       9\n",
       "el_GR       9\n",
       "nn_NO       8\n",
       "hu_HU       7\n",
       "ka_GE       7\n",
       "bg_BG       7\n",
       "de_DE       7\n",
       "nl_NL       6\n",
       "fr_CA       5\n",
       "sq_AL       4\n",
       "ku_TR       4\n",
       "zh_CN       3\n",
       "hr_HR       2\n",
       "nl_BE       2\n",
       "sr_RS       2\n",
       "mk_MK       2\n",
       "ja_JP       1\n",
       "fi_FI       1\n",
       "mn_MN       1\n",
       "th_TH       1\n",
       "lt_LT       1"
      ]
     },
     "execution_count": 20,
     "metadata": {},
     "output_type": "execute_result"
    }
   ],
   "source": [
    "df_local.sort_values(by='Ganhou', ascending=False)"
   ]
  },
  {
   "cell_type": "markdown",
   "metadata": {},
   "source": [
    "Como selecionar o maior e o menor resultado?"
   ]
  },
  {
   "cell_type": "code",
   "execution_count": 21,
   "metadata": {},
   "outputs": [
    {
     "name": "stdout",
     "output_type": "stream",
     "text": [
      "       Ganhou\n",
      "Local        \n",
      "pt_BR   174.0\n"
     ]
    }
   ],
   "source": [
    "df3 = df_local[df_local == df_local.Ganhou.max()]\n",
    "df3 = df3.dropna(axis='rows')\n",
    "print(df3)\n"
   ]
  },
  {
   "cell_type": "code",
   "execution_count": 23,
   "metadata": {},
   "outputs": [
    {
     "data": {
      "text/plain": [
       "'pt_BR'"
      ]
     },
     "execution_count": 23,
     "metadata": {},
     "output_type": "execute_result"
    }
   ],
   "source": [
    "# Também podemos consultar diretamente o índice que contém o valor máximo:\n",
    "\n",
    "df_local.Ganhou.idxmax(axis=0)"
   ]
  },
  {
   "cell_type": "code",
   "execution_count": 24,
   "metadata": {},
   "outputs": [
    {
     "name": "stdout",
     "output_type": "stream",
     "text": [
      "       Ganhou\n",
      "Local        \n",
      "pt_BR     174\n"
     ]
    }
   ],
   "source": [
    "# Para filtrar o dataset usando o índice usamos o código abaixo:\n",
    "\n",
    "df3 = df_local[df_local.index == df_local.Ganhou.idxmax()]\n",
    "print(df3)"
   ]
  },
  {
   "cell_type": "markdown",
   "metadata": {},
   "source": [
    "# Histogramas"
   ]
  },
  {
   "cell_type": "markdown",
   "metadata": {},
   "source": [
    "Importar arquivo CSV"
   ]
  },
  {
   "cell_type": "code",
   "execution_count": null,
   "metadata": {},
   "outputs": [],
   "source": [
    "import pandas as pd\n",
    "\n",
    "data = pd.read_csv(\"expectativa.csv\")"
   ]
  },
  {
   "cell_type": "code",
   "execution_count": 28,
   "metadata": {},
   "outputs": [
    {
     "data": {
      "text/html": [
       "<div>\n",
       "<style scoped>\n",
       "    .dataframe tbody tr th:only-of-type {\n",
       "        vertical-align: middle;\n",
       "    }\n",
       "\n",
       "    .dataframe tbody tr th {\n",
       "        vertical-align: top;\n",
       "    }\n",
       "\n",
       "    .dataframe thead th {\n",
       "        text-align: right;\n",
       "    }\n",
       "</style>\n",
       "<table border=\"1\" class=\"dataframe\">\n",
       "  <thead>\n",
       "    <tr style=\"text-align: right;\">\n",
       "      <th></th>\n",
       "      <th>country</th>\n",
       "      <th>year</th>\n",
       "      <th>pop</th>\n",
       "      <th>continent</th>\n",
       "      <th>lifeExp</th>\n",
       "      <th>gdpPercap</th>\n",
       "    </tr>\n",
       "  </thead>\n",
       "  <tbody>\n",
       "    <tr>\n",
       "      <td>0</td>\n",
       "      <td>Afghanistan</td>\n",
       "      <td>1952</td>\n",
       "      <td>8425333.0</td>\n",
       "      <td>Asia</td>\n",
       "      <td>28.801</td>\n",
       "      <td>779.445314</td>\n",
       "    </tr>\n",
       "    <tr>\n",
       "      <td>1</td>\n",
       "      <td>Afghanistan</td>\n",
       "      <td>1957</td>\n",
       "      <td>9240934.0</td>\n",
       "      <td>Asia</td>\n",
       "      <td>30.332</td>\n",
       "      <td>820.853030</td>\n",
       "    </tr>\n",
       "    <tr>\n",
       "      <td>2</td>\n",
       "      <td>Afghanistan</td>\n",
       "      <td>1962</td>\n",
       "      <td>10267083.0</td>\n",
       "      <td>Asia</td>\n",
       "      <td>31.997</td>\n",
       "      <td>853.100710</td>\n",
       "    </tr>\n",
       "    <tr>\n",
       "      <td>3</td>\n",
       "      <td>Afghanistan</td>\n",
       "      <td>1967</td>\n",
       "      <td>11537966.0</td>\n",
       "      <td>Asia</td>\n",
       "      <td>34.020</td>\n",
       "      <td>836.197138</td>\n",
       "    </tr>\n",
       "    <tr>\n",
       "      <td>4</td>\n",
       "      <td>Afghanistan</td>\n",
       "      <td>1972</td>\n",
       "      <td>13079460.0</td>\n",
       "      <td>Asia</td>\n",
       "      <td>36.088</td>\n",
       "      <td>739.981106</td>\n",
       "    </tr>\n",
       "  </tbody>\n",
       "</table>\n",
       "</div>"
      ],
      "text/plain": [
       "       country  year         pop continent  lifeExp   gdpPercap\n",
       "0  Afghanistan  1952   8425333.0      Asia   28.801  779.445314\n",
       "1  Afghanistan  1957   9240934.0      Asia   30.332  820.853030\n",
       "2  Afghanistan  1962  10267083.0      Asia   31.997  853.100710\n",
       "3  Afghanistan  1967  11537966.0      Asia   34.020  836.197138\n",
       "4  Afghanistan  1972  13079460.0      Asia   36.088  739.981106"
      ]
     },
     "execution_count": 28,
     "metadata": {},
     "output_type": "execute_result"
    }
   ],
   "source": [
    "data.head()"
   ]
  },
  {
   "cell_type": "markdown",
   "metadata": {},
   "source": [
    "### Histogramas com matplotlib"
   ]
  },
  {
   "cell_type": "markdown",
   "metadata": {},
   "source": [
    "Desenhar o histograma da coluna “lifeExp”\n",
    "* O número de intervalos de classe padrão é 10"
   ]
  },
  {
   "cell_type": "code",
   "execution_count": 29,
   "metadata": {},
   "outputs": [
    {
     "data": {
      "text/plain": [
       "<matplotlib.axes._subplots.AxesSubplot at 0x253be777dd8>"
      ]
     },
     "execution_count": 29,
     "metadata": {},
     "output_type": "execute_result"
    },
    {
     "data": {
      "image/png": "[encoded data removed]",
      "text/plain": [
       "<Figure size 432x288 with 1 Axes>"
      ]
     },
     "metadata": {
      "needs_background": "light"
     },
     "output_type": "display_data"
    }
   ],
   "source": [
    "# Importar a biblioteca matplotlib\n",
    "import matplotlib.pyplot as plt\n",
    "\n",
    "data['lifeExp'].hist()"
   ]
  },
  {
   "cell_type": "markdown",
   "metadata": {},
   "source": [
    "Para desenhar o histograma com mais intervalos, usamos o parâmetro “bins”"
   ]
  },
  {
   "cell_type": "code",
   "execution_count": 30,
   "metadata": {},
   "outputs": [
    {
     "data": {
      "text/plain": [
       "<matplotlib.axes._subplots.AxesSubplot at 0x253bd657b38>"
      ]
     },
     "execution_count": 30,
     "metadata": {},
     "output_type": "execute_result"
    },
    {
     "data": {
      "image/png": "[encoded data removed]",
      "text/plain": [
       "<Figure size 432x288 with 1 Axes>"
      ]
     },
     "metadata": {
      "needs_background": "light"
     },
     "output_type": "display_data"
    }
   ],
   "source": [
    "data['lifeExp'].hist(bins=100)"
   ]
  },
  {
   "cell_type": "markdown",
   "metadata": {},
   "source": [
    "Incluir os nomes dos eixos"
   ]
  },
  {
   "cell_type": "code",
   "execution_count": 32,
   "metadata": {},
   "outputs": [
    {
     "data": {
      "text/plain": [
       "(22.0, 90.0)"
      ]
     },
     "execution_count": 32,
     "metadata": {},
     "output_type": "execute_result"
    },
    {
     "data": {
      "image/png": "[encoded data removed]",
      "text/plain": [
       "<Figure size 432x288 with 1 Axes>"
      ]
     },
     "metadata": {
      "needs_background": "light"
     },
     "output_type": "display_data"
    }
   ],
   "source": [
    "data['lifeExp'].hist(bins=100, grid=False, xlabelsize=12, \n",
    "\t\t\t\t\t\tylabelsize=12)\n",
    "plt.xlabel(\"Expectativa de Vida\", fontsize=15)\n",
    "plt.ylabel(\"Frequência\",fontsize=15)\n",
    "plt.xlim([22.0,90.0])"
   ]
  },
  {
   "cell_type": "markdown",
   "metadata": {},
   "source": [
    "Novo histograma para a coluna “gdpPerCap” :\n",
    "* escala logarítmica para o eixo x (comando xscale)"
   ]
  },
  {
   "cell_type": "code",
   "execution_count": 34,
   "metadata": {},
   "outputs": [
    {
     "data": {
      "image/png": "[encoded data removed]",
      "text/plain": [
       "<Figure size 432x288 with 1 Axes>"
      ]
     },
     "metadata": {
      "needs_background": "light"
     },
     "output_type": "display_data"
    }
   ],
   "source": [
    "data['gdpPercap'].hist(bins=1000,grid=False)\n",
    "\n",
    "plt.xlabel(\"Pib Per Capita\", fontsize=15)\n",
    "plt.ylabel(\"Frequêncy\",fontsize=15)\n",
    "plt.xscale('log')"
   ]
  },
  {
   "cell_type": "markdown",
   "metadata": {},
   "source": [
    "### Histogramas com seaborn"
   ]
  },
  {
   "cell_type": "markdown",
   "metadata": {},
   "source": [
    "Desenhar o histograma da coluna “lifeExp”\n",
    "* O número de intervalos de classe padrão é 18"
   ]
  },
  {
   "cell_type": "code",
   "execution_count": 35,
   "metadata": {},
   "outputs": [
    {
     "data": {
      "text/plain": [
       "<matplotlib.axes._subplots.AxesSubplot at 0x253c3490dd8>"
      ]
     },
     "execution_count": 35,
     "metadata": {},
     "output_type": "execute_result"
    },
    {
     "data": {
      "image/png": "[encoded data removed]",
      "text/plain": [
       "<Figure size 432x288 with 1 Axes>"
      ]
     },
     "metadata": {
      "needs_background": "light"
     },
     "output_type": "display_data"
    }
   ],
   "source": [
    "# Importar a biblioteca seaborn\n",
    "import seaborn as sns\n",
    "\n",
    "sns.distplot(data['lifeExp'])"
   ]
  },
  {
   "cell_type": "markdown",
   "metadata": {},
   "source": [
    "Para desenhar o histograma com mais intervalos, usamos o parâmetro “bins”"
   ]
  },
  {
   "cell_type": "code",
   "execution_count": 36,
   "metadata": {},
   "outputs": [
    {
     "data": {
      "text/plain": [
       "<matplotlib.axes._subplots.AxesSubplot at 0x253c3569588>"
      ]
     },
     "execution_count": 36,
     "metadata": {},
     "output_type": "execute_result"
    },
    {
     "data": {
      "image/png": "[encoded data removed]",
      "text/plain": [
       "<Figure size 432x288 with 1 Axes>"
      ]
     },
     "metadata": {
      "needs_background": "light"
     },
     "output_type": "display_data"
    }
   ],
   "source": [
    "sns.distplot(data['lifeExp'],color='red', bins=100)"
   ]
  },
  {
   "cell_type": "markdown",
   "metadata": {},
   "source": [
    "Filtrando o dataframe e plotando os dados para o continente África"
   ]
  },
  {
   "cell_type": "code",
   "execution_count": 37,
   "metadata": {},
   "outputs": [
    {
     "data": {
      "text/plain": [
       "<matplotlib.axes._subplots.AxesSubplot at 0x253c46a2438>"
      ]
     },
     "execution_count": 37,
     "metadata": {},
     "output_type": "execute_result"
    },
    {
     "data": {
      "image/png": "[encoded data removed]",
      "text/plain": [
       "<Figure size 432x288 with 1 Axes>"
      ]
     },
     "metadata": {
      "needs_background": "light"
     },
     "output_type": "display_data"
    }
   ],
   "source": [
    "df = data[data.continent == 'Africa']\n",
    "sns.distplot(df['lifeExp'],  kde=False, label='Africa')"
   ]
  },
  {
   "cell_type": "markdown",
   "metadata": {},
   "source": [
    "Filtrando o dataframe e plotando os dados para o continente Américas"
   ]
  },
  {
   "cell_type": "code",
   "execution_count": 38,
   "metadata": {},
   "outputs": [
    {
     "data": {
      "text/plain": [
       "<matplotlib.axes._subplots.AxesSubplot at 0x253c473f0f0>"
      ]
     },
     "execution_count": 38,
     "metadata": {},
     "output_type": "execute_result"
    },
    {
     "data": {
      "image/png": "[encoded data removed]",
      "text/plain": [
       "<Figure size 432x288 with 1 Axes>"
      ]
     },
     "metadata": {
      "needs_background": "light"
     },
     "output_type": "display_data"
    }
   ],
   "source": [
    "df = data[data.continent == 'Americas']\n",
    "sns.distplot(df['lifeExp'],  kde=False,label='Americas')"
   ]
  },
  {
   "cell_type": "markdown",
   "metadata": {},
   "source": [
    "Juntar ambos os histogramas em uma única imagem"
   ]
  },
  {
   "cell_type": "code",
   "execution_count": 39,
   "metadata": {},
   "outputs": [
    {
     "data": {
      "text/plain": [
       "Text(0, 0.5, 'Densidade')"
      ]
     },
     "execution_count": 39,
     "metadata": {},
     "output_type": "execute_result"
    },
    {
     "data": {
      "image/png": "[encoded data removed]",
      "text/plain": [
       "<Figure size 432x288 with 1 Axes>"
      ]
     },
     "metadata": {
      "needs_background": "light"
     },
     "output_type": "display_data"
    }
   ],
   "source": [
    "df = data[data.continent == 'Africa']\n",
    "sns.distplot(df['lifeExp'], kde=False, label='Africa')\n",
    "\n",
    "df = data[data.continent == 'Americas']\n",
    "sns.distplot(df['lifeExp'], kde=False, label='Americas')\n",
    "\n",
    "plt.legend(prop={'size': 12})\n",
    "plt.title('Expectativa de vida entre continentes')\n",
    "plt.xlabel('Expectativa de Vida (anos)')\n",
    "plt.ylabel('Densidade')"
   ]
  },
  {
   "cell_type": "markdown",
   "metadata": {},
   "source": [
    "Podemos mostrar apenas as distribuições e remover o histograma.\n",
    "* parâmetro hist = False remove o gráfico de barras do histograma\n",
    "* para incluir o polígono de frequências (distribuição) usamos o parâmetro kde = True"
   ]
  },
  {
   "cell_type": "code",
   "execution_count": 40,
   "metadata": {},
   "outputs": [
    {
     "data": {
      "text/plain": [
       "Text(0, 0.5, 'Densidade')"
      ]
     },
     "execution_count": 40,
     "metadata": {},
     "output_type": "execute_result"
    },
    {
     "data": {
      "image/png": "[encoded data removed]",
      "text/plain": [
       "<Figure size 432x288 with 1 Axes>"
      ]
     },
     "metadata": {
      "needs_background": "light"
     },
     "output_type": "display_data"
    }
   ],
   "source": [
    "df = data[data.continent == 'Africa']\n",
    "sns.distplot(df['lifeExp'], hist = False, kde = True, label='Africa')\n",
    "\n",
    "df = data[data.continent == 'Americas']\n",
    "sns.distplot(df['lifeExp'], hist = False, kde = True, label='Americas')\n",
    "\n",
    "plt.legend(prop={'size': 12})\n",
    "plt.title('Expectativa de vida entre continentes')\n",
    "plt.xlabel('Expectativa de Vida (anos)')\n",
    "plt.ylabel('Densidade')\n"
   ]
  }
 ],
 "metadata": {
  "kernelspec": {
   "display_name": "Python 3",
   "language": "python",
   "name": "python3"
  },
  "language_info": {
   "codemirror_mode": {
    "name": "ipython",
    "version": 3
   },
   "file_extension": ".py",
   "mimetype": "text/x-python",
   "name": "python",
   "nbconvert_exporter": "python",
   "pygments_lexer": "ipython3",
   "version": "3.6.6"
  }
 },
 "nbformat": 4,
 "nbformat_minor": 4
}
